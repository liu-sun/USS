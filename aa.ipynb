{
 "cells": [
  {
   "cell_type": "code",
   "execution_count": 1,
   "metadata": {},
   "outputs": [
    {
     "name": "stdout",
     "output_type": "stream",
     "text": [
      "[{'hgvsc': ['ENST00000355699.7:c.3178C>T',\n",
      "            'ENST00000356589.6:c.3085C>T',\n",
      "            'ENST00000371916.5:c.*647C>T',\n",
      "            'ENST00000371929.7:c.3178C>T',\n",
      "            'ENST00000485925.5:n.1994C>T',\n",
      "            'NM_139025.5:c.3178C>T',\n",
      "            'NM_139026.6:c.3085C>T',\n",
      "            'NM_139027.6:c.3178C>T',\n",
      "            'NR_024514.3:n.2015C>T',\n",
      "            'XM_011518176.3:c.2194C>T',\n",
      "            'XM_011518178.2:c.1843C>T',\n",
      "            'XM_011518179.1:c.1843C>T',\n",
      "            'XM_017014232.1:c.3166C>T',\n",
      "            'XM_017014233.1:c.2788C>T',\n",
      "            'XM_017014234.2:c.2188C>T',\n",
      "            'LRG_544t1:c.3178C>T'],\n",
      "  'hgvsg': ['NC_000009.12:g.133454548C>T', 'LRG_544:g.45210C>T'],\n",
      "  'hgvsp': ['ENSP00000347927.2:p.Arg1060Trp',\n",
      "            'ENSP00000348997.2:p.Arg1029Trp',\n",
      "            'ENSP00000360997.3:p.Arg1060Trp',\n",
      "            'NP_620594.1:p.Arg1060Trp',\n",
      "            'NP_620595.1:p.Arg1029Trp',\n",
      "            'NP_620596.2:p.Arg1060Trp',\n",
      "            'XP_011516478.1:p.Arg732Trp',\n",
      "            'XP_011516480.1:p.Arg615Trp',\n",
      "            'XP_011516481.1:p.Arg615Trp',\n",
      "            'XP_016869721.1:p.Arg1056Trp',\n",
      "            'XP_016869722.1:p.Arg930Trp',\n",
      "            'XP_016869723.1:p.Arg730Trp',\n",
      "            'LRG_544p1:p.Arg1060Trp'],\n",
      "  'id': ['rs142572218', 'CM062410'],\n",
      "  'input': 'ADAMTS13:p.R1060W',\n",
      "  'spdi': ['NC_000009.12:133454547:C:T', 'LRG_544:45209:C:T'],\n",
      "  'warnings': [\"Possible invalid use of gene or protein identifier 'ADAMTS13' \"\n",
      "               'as HGVS reference; ADAMTS13:p.R1060W may resolve to multiple '\n",
      "               'genomic locations']}]\n"
     ]
    }
   ],
   "source": [
    "import pprint\n",
    "\n",
    "import requests\n",
    "\n",
    "server = \"https://rest.ensembl.org\"\n",
    "ext = \"/variant_recoder/human/ADAMTS13:p.R1060W?\"\n",
    "headers = {\"Content-Type\": \"application/json\", \"Accept\": \"application/json\"}\n",
    "r = requests.get(server + ext, headers=headers)\n",
    "pprint.pprint(r.json())\n"
   ]
  }
 ],
 "metadata": {
  "kernelspec": {
   "display_name": "Python 3",
   "language": "python",
   "name": "python3"
  },
  "language_info": {
   "codemirror_mode": {
    "name": "ipython",
    "version": 3
   },
   "file_extension": ".py",
   "mimetype": "text/x-python",
   "name": "python",
   "nbconvert_exporter": "python",
   "pygments_lexer": "ipython3",
   "version": "3.8.5"
  }
 },
 "nbformat": 4,
 "nbformat_minor": 4
}
